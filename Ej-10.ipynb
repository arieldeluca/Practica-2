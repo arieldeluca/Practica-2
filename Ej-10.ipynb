{
 "cells": [
  {
   "cell_type": "code",
   "execution_count": 1,
   "id": "63f74790",
   "metadata": {},
   "outputs": [
    {
     "name": "stdout",
     "output_type": "stream",
     "text": [
      " 1----------------------------------------------------------------------------------------------------------------------------------\n",
      " Las notas por alumno son: \n",
      " [('Agustin', 81, 30), ('Alan', 60, 95), ('Andrés', 72, 28), ('Ariadna', 24, 84), ('Bautista', 15, 84), ('CAROLINA', 91, 43), ('CESAR', 12, 66), ('David', 70, 51), ('Diego', 29, 4), ('Dolores', 42, 11), ('DYLAN', 16, 58), ('ELIANA', 3, 10), ('Emanuel', 35, 13), ('Fabián', 67, 34), ('Facundo', 10, 96), ('Francsica', 57, 71), ('FEDERICO', 11, 86), ('Fernanda', 69, 37), ('GONZALO', 12, 64), ('Gregorio', 77, 13), ('Ignacio', 13, 8), ('Jonathan', 86, 87), ('Joaquina', 48, 14), ('Jorge', 65, 14), ('JOSE', 51, 49), ('Javier', 41, 27), ('Joaquín', 87, 55), ('Julian', 43, 69), ('Julieta', 10, 77), ('Luciana', 87, 59), ('LAUTARO', 91, 57), ('Leonel', 15, 40), ('Luisa', 44, 96), ('Luis', 85, 24), ('Marcos', 73, 30), ('María', 37, 73), ('MATEO', 42, 95), ('Matias', 95, 19), ('Nicolás', 18, 47), ('Nancy', 7, 15), ('Noelia', 74, 31), ('Pablo', 60, 39), ('Priscila', 9, 15), ('Sabrina', 65, 74), ('Tomás', 93, 33), ('Ulises', 63, 57), ('Yanina', 74, 10)] \n",
      "\n",
      " 2----------------------------------------------------------------------------------------------------------------------------------\n",
      " Las notas promedio por alumno son: \n",
      " [['Agustin', 55.5], ['Alan', 77.5], ['Andrés', 50.0], ['Ariadna', 54.0], ['Bautista', 49.5], ['CAROLINA', 67.0], ['CESAR', 39.0], ['David', 60.5], ['Diego', 16.5], ['Dolores', 26.5], ['DYLAN', 37.0], ['ELIANA', 6.5], ['Emanuel', 24.0], ['Fabián', 50.5], ['Facundo', 53.0], ['Francsica', 64.0], ['FEDERICO', 48.5], ['Fernanda', 53.0], ['GONZALO', 38.0], ['Gregorio', 45.0], ['Ignacio', 10.5], ['Jonathan', 86.5], ['Joaquina', 31.0], ['Jorge', 39.5], ['JOSE', 50.0], ['Javier', 34.0], ['Joaquín', 71.0], ['Julian', 56.0], ['Julieta', 43.5], ['Luciana', 73.0], ['LAUTARO', 74.0], ['Leonel', 27.5], ['Luisa', 70.0], ['Luis', 54.5], ['Marcos', 51.5], ['María', 55.0], ['MATEO', 68.5], ['Matias', 57.0], ['Nicolás', 32.5], ['Nancy', 11.0], ['Noelia', 52.5], ['Pablo', 49.5], ['Priscila', 12.0], ['Sabrina', 69.5], ['Tomás', 63.0], ['Ulises', 60.0], ['Yanina', 42.0]] \n",
      "\n",
      " 3----------------------------------------------------------------------------------------------------------------------------------\n",
      " El promedio general del curso es: \n",
      " 48.1 \n",
      "\n",
      " 4----------------------------------------------------------------------------------------------------------------------------------\n",
      " El promedio mas alto: \n",
      " Jonathan, con 86.5 \n",
      "\n",
      " 4----------------------------------------------------------------------------------------------------------------------------------\n",
      " El promedio mas bajo: \n",
      " ELIANA, con 6.5 \n",
      "\n"
     ]
    }
   ],
   "source": [
    "nombres = \"\"\" 'Agustin', 'Alan', 'Andrés', 'Ariadna', 'Bautista', 'CAROLINA', 'CESAR', \n",
    "'David','Diego', 'Dolores', 'DYLAN', 'ELIANA', 'Emanuel', 'Fabián', 'Facundo', \n",
    "'Francsica', 'FEDERICO', 'Fernanda', 'GONZALO', 'Gregorio', 'Ignacio', 'Jonathan', \n",
    "'Joaquina', 'Jorge','JOSE', 'Javier', 'Joaquín'  , 'Julian', 'Julieta', 'Luciana',\n",
    "'LAUTARO', 'Leonel', 'Luisa', 'Luis', 'Marcos', 'María', 'MATEO', 'Matias', \n",
    "'Nicolás',  'Nancy', 'Noelia', 'Pablo', 'Priscila', 'Sabrina', 'Tomás', 'Ulises',\n",
    "'Yanina' \"\"\"\n",
    "notas_1 = [81,  60, 72, 24, 15, 91, 12, 70, 29, 42, 16, 3, 35, 67, 10, 57, 11, 69, \n",
    "           12, 77, 13, 86, 48, 65, 51, 41, 87, 43, 10, 87, 91, 15, 44, \n",
    "           85, 73, 37, 42, 95, 18, 7, 74, 60, 9, 65, 93, 63, 74]\n",
    "notas_2 = [30, 95, 28, 84, 84, 43, 66, 51, 4, 11, 58, 10, 13, 34, 96, 71, 86, 37,\n",
    "           64, 13, 8, 87, 14, 14, 49, 27, 55, 69, 77, 59, 57, 40, 96, 24, 30, 73,\n",
    "           95, 19, 47, 15, 31, 39, 15, 74, 33, 57, 10]\n",
    "\n",
    "\n",
    "notas_alumno = []\n",
    "promedio_alumno = {}\n",
    "\n",
    "lista_nombres = nombres.split(\"'\")\n",
    "for nombre in lista_nombres:\n",
    "    if not nombre.isalpha():\n",
    "        lista_nombres.remove(nombre)\n",
    "\n",
    "conteo = 0\n",
    "\n",
    "for alumno in lista_nombres:\n",
    "    zip_alumnos = zip(lista_nombres,notas_1,notas_2)\n",
    "\n",
    "notas_alumnos = list(zip_alumnos)\n",
    "\n",
    "promedio_alumno = []\n",
    "\n",
    "for i in range(len(notas_alumnos)):\n",
    "    promedio_alumno.append([notas_alumnos[i][0],(notas_alumnos[i][1] + notas_alumnos[i][2])/2])\n",
    "\n",
    "suma_total = 0\n",
    "\n",
    "for i in range(len(promedio_alumno)):\n",
    "    suma_total = suma_total + promedio_alumno[i][1]\n",
    "    \n",
    "promedio_general = round(suma_total/len(promedio_alumno),2)\n",
    "mayor_promedio = max(promedio_alumno, key=lambda x: x[1])\n",
    "menor_promedio = min(promedio_alumno, key=lambda x: x[1])\n",
    "\n",
    "print(\" 1\" + \"-\"*130 + f\"\\n Las notas por alumno son: \\n {notas_alumnos} \\n\")\n",
    "print(\" 2\" + \"-\"*130 + f\"\\n Las notas promedio por alumno son: \\n {promedio_alumno} \\n\")\n",
    "print(\" 3\" + \"-\"*130 + f\"\\n El promedio general del curso es: \\n {promedio_general} \\n\")\n",
    "print(\" 4\" + \"-\"*130 + f\"\\n El promedio mas alto: \\n {mayor_promedio[0]}, con {mayor_promedio[1]} \\n\")\n",
    "print(\" 5\" + \"-\"*130 + f\"\\n El promedio mas bajo: \\n {menor_promedio[0]}, con {menor_promedio[1]} \\n\")"
   ]
  }
 ],
 "metadata": {
  "kernelspec": {
   "display_name": "Python 3 (ipykernel)",
   "language": "python",
   "name": "python3"
  },
  "language_info": {
   "codemirror_mode": {
    "name": "ipython",
    "version": 3
   },
   "file_extension": ".py",
   "mimetype": "text/x-python",
   "name": "python",
   "nbconvert_exporter": "python",
   "pygments_lexer": "ipython3",
   "version": "3.11.2"
  }
 },
 "nbformat": 4,
 "nbformat_minor": 5
}
